{
 "cells": [
  {
   "cell_type": "markdown",
   "metadata": {},
   "source": [
    "## Introduction to Probability and Data\n",
    "### Week 1"
   ]
  },
  {
   "cell_type": "raw",
   "metadata": {},
   "source": [
    "LO 1. Identify variables as numerical and categorical.\n",
    "\n",
    "If the variable is numerical, further classify as continuous or discrete based on whether or not the variable can take on an infinite number of values or only non-negative whole numbers, respectively.\n",
    "If the variable is categorical, determine if it is ordinal based on whether or not the levels have a natural ordering.\n",
    "LO 2. Define associated variables as variables that show some relationship with one another. Further categorize this relationship as positive or negative association, when possible.\n",
    "\n",
    "LO 3. Define variables that are not associated as independent.\n",
    "\n",
    "Test yourself: Give one example of each type of variable you have learned.\n",
    "\n",
    "LO 4. Identify the explanatory variable in a pair of variables as the variable suspected of affecting the other, however note that labeling variables as explanatory and response does not guarantee that the relationship between the two is actually causal, even if there is an association identified between the two variables.\n",
    "\n",
    "LO 5. Classify a study as observational or experimental, and determine and explain whether the study’s results can be generalized to the population and whether the results suggest correlation or causation between the quantities studied.\n",
    "\n",
    "If random sampling has been employed in data collection, the results should be generalizable to the target population.\n",
    "If random assignment has been employed in study design, the results suggest causality.\n",
    "LO 6. Question confounding variables and sources of bias in a given study.\n",
    "\n",
    "LO 7. Distinguish between simple random, stratified, and cluster sampling, and recognize the benefits and drawbacks of choosing one sampling scheme over another.\n",
    "\n",
    "Simple random sampling: Each subject in the population is equally likely to be selected.\n",
    "Stratified sampling: First divide the population into homogenous strata (subjects within each stratum are similar, across strata are different), then randomly sample from within each strata.\n",
    "Cluster sampling: First divide the population into clusters (subjects within each cluster are non-homogenous, but clusters are similar to each other), then randomly sample a few clusters, and then randomly sample from within each cluster.\n",
    "LO 8. Identify the four principles of experimental design and recognize their purposes: control any possible confounders, randomize into treatment and control groups, replicate by using a sufficiently large sample or repeating the experiment, and block any variables that might influence the response.\n",
    "\n",
    "LO 9. Identify if single or double blinding has been used in a study.\n",
    "\n",
    "Test yourself:\n",
    "\n",
    "Describe when a study’s results can be generalized to the population at large and when causation can be inferred.\n",
    "Explain why random sampling allows for generalizability of results.\n",
    "Explain why random assignment allows for making causal conclusions.\n",
    "Describe a situation where cluster sampling is more efficient than simple random or stratified sampling.\n",
    "Explain how blinding can help eliminate the placebo effect and other biases."
   ]
  },
  {
   "cell_type": "code",
   "execution_count": null,
   "metadata": {
    "collapsed": true
   },
   "outputs": [],
   "source": []
  }
 ],
 "metadata": {
  "kernelspec": {
   "display_name": "R",
   "language": "R",
   "name": "ir"
  },
  "language_info": {
   "codemirror_mode": "r",
   "file_extension": ".r",
   "mimetype": "text/x-r-source",
   "name": "R",
   "pygments_lexer": "r",
   "version": "3.2.2"
  }
 },
 "nbformat": 4,
 "nbformat_minor": 0
}
